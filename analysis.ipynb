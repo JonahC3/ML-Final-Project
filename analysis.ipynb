{
 "cells": [
  {
   "cell_type": "code",
   "execution_count": null,
   "metadata": {},
   "outputs": [],
   "source": [
    "# Test the model\n",
    "test_loader = imageDataset(file_path, 64, len(target_test), target_test, target_filename_test, False)\n",
    "\n",
    "tolerance = 10\n",
    "\n",
    "model.eval()\n",
    "correct_predictions = 0\n",
    "predictions = []\n",
    "true_labels = []\n",
    "\n",
    "with torch.no_grad():\n",
    "    for _ in range(test_loader.num_batches_per_epoch):\n",
    "        images, target = test_loader.generate_batch(_)\n",
    "        test_outputs = model(images)\n",
    "        \n",
    "        # Flatten the predictions and true labels for regression\n",
    "        predictions.extend(test_outputs.numpy().flatten())\n",
    "        true_labels.extend(target.numpy().flatten())\n",
    "\n",
    "        # Count correct predictions within the tolerance range\n",
    "        correct_predictions += np.sum(np.abs(np.array(predictions) - np.array(true_labels)) <= tolerance)\n",
    "\n",
    "# Calculate accuracy within the tolerance range\n",
    "total_samples = len(predictions) * test_loader.batch_size\n",
    "accuracy_within_tolerance = (correct_predictions / total_samples) * 100\n",
    "\n",
    "print(f\"Number of correct predictions within {tolerance} years: {correct_predictions}\")\n",
    "print(f\"Accuracy within {tolerance} years: {accuracy_within_tolerance:.2f}%\")"
   ]
  }
 ],
 "metadata": {
  "language_info": {
   "name": "python"
  }
 },
 "nbformat": 4,
 "nbformat_minor": 2
}
